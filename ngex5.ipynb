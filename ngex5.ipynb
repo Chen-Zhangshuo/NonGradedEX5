{
 "cells": [
  {
   "cell_type": "markdown",
   "metadata": {},
   "source": [
    "AIM #1: Loading the dataset and printing basic information \n",
    "1. Import the Titanic dataset using pandas\n",
    "2. Create a Dataframe from the dataset\n",
    "3. Print the first 10 rows of the dataset\n",
    "4. Print the last 20 rows of the dataset\n",
    "5. Print dataset's information\n",
    "6. Describe the dataset\n",
    "7. Make sure all the information returned by the different functions are displayed in a single table and not on multiple ines"
   ]
  },
  {
   "cell_type": "code",
   "execution_count": null,
   "metadata": {},
   "outputs": [],
   "source": [
    "import matplotlib.pyplot as plt\n",
    "import pandas as pd\n",
    "import io\n",
    "\n",
    "url = 'https://raw.githubusercontent.com/datasciencedojo/datasets/master/titanic.csv'\n",
    "titanic_df = pd.read_csv(url)\n",
    "\n",
    "first_10_rows = titanic_df.head(10)\n",
    "last_20_rows = titanic_df.tail(20)\n",
    "\n",
    "buffer = io.StringIO()\n",
    "titanic_df.info(buf=buffer)\n",
    "dataset_info = buffer.getvalue()\n",
    "\n",
    "description = titanic_df.describe()\n",
    "\n",
    "plt.figure(figsize=(8,6))\n",
    "plt.hist(titanic_df['Age'].dropna(), bins=30, edgecolor='black')\n",
    "plt.title('Age Distribution of Titanic Passengers')\n",
    "plt.xlabel('Age')\n",
    "plt.ylabel('Frequency')\n",
    "\n",
    "plt.show()\n",
    "\n",
    "result = {\n",
    "    \"First 10 Rows\": first_10_rows,\n",
    "    \"Last 20 Rows\": last_20_rows,\n",
    "    \"Dataset Info\": dataset_info,\n",
    "    \"Description\": description\n",
    "}\n",
    "print(result)"
   ]
  },
  {
   "cell_type": "markdown",
   "metadata": {},
   "source": [
    "dAIM #2: Finding issues (empty, NAs, incorrect value, incorrect format, outliers, etc.) \n",
    "1. Find out how many missing values there are in the dataset\n",
    "2. For the 'Age' column, find the best way to handle the missing values\n",
    "    2.1. Use an appropriate plot to study the nature of the 'Age' column\n",
    "    2.2. Figure out what is the best way to calculate the central tendency of the 'Age' column based on the above plot\n",
    "    2.3. Using the most suitable central tendency measure, fill the missing values in the age column\n",
    "3. Decide what is the best way to handle the missing values in the 'Cabin' columns\n",
    "4. Similarly, decide what is the best way to handle the missing values in the 'Embarked' columns\n",
    "5. Handle the incorrect data under the 'Survived' columns using appropriate measure\n",
    "6. Handle the incorrectly formatted data under the 'Fare' column"
   ]
  },
  {
   "cell_type": "code",
   "execution_count": null,
   "metadata": {},
   "outputs": [],
   "source": [
    "import pandas as pd\n",
    "import matplotlib.pyplot as plt\n",
    "import seaborn as sns\n",
    "\n",
    "url = 'https://raw.githubusercontent.com/datasciencedojo/datasets/master/titanic.csv'\n",
    "titanic_df = pd.read_csv(url)\n",
    "\n",
    "missing_values = titanic_df.isnull().sum()\n",
    "\n",
    "plt.figure(figsize=(8,6))\n",
    "sns.histplot(titanic_df['Age'], kde=True, bins=30)\n",
    "plt.title('Age Distribution with Missing Values')\n",
    "plt.show()\n",
    "\n",
    "median_age = titanic_df['Age'].median()\n",
    "\n",
    "titanic_df['Age'].fillna(median_age, inplace=True)\n",
    "\n",
    "titanic_df.drop('Cabin', axis=1, inplace=True)\n",
    "\n",
    "mode_embarked = titanic_df['Embarked'].mode()[0]\n",
    "titanic_df['Embarked'].fillna(mode_embarked, inplace=True)\n",
    "\n",
    "titanic_df['Survived'] = titanic_df['Survived'].apply(lambda x: 1 if x > 1 else (0 if x < 0 else x))\n",
    "\n",
    "titanic_df['Fare'] = pd.to_numeric(titanic_df['Fare'], errors='coerce')\n",
    "\n",
    "final_missing_values = titanic_df.isnull().sum()\n",
    "\n",
    "print(\"Missing Values Before Handling:\")\n",
    "print(missing_values)\n",
    "print(\"\\nMissing Values After Handling:\")\n",
    "print(final_missing_values)\n",
    "\n",
    "print(titanic_df.head())"
   ]
  },
  {
   "cell_type": "markdown",
   "metadata": {},
   "source": [
    "AIM #3: Grouping \n",
    "1. Find out the average fare grouped by Pclass\n",
    "    1.1. Plot the above using a suitable plot\n",
    "2. Find out the average fare grouped by Sex\n",
    "    2.1. Plot the above using a suitable plot"
   ]
  },
  {
   "cell_type": "code",
   "execution_count": null,
   "metadata": {},
   "outputs": [],
   "source": [
    "import seaborn as sns\n",
    "import matplotlib.pyplot as plt\n",
    "\n",
    "# Load Titanic dataset from seaborn\n",
    "titanic = sns.load_dataset('titanic')\n",
    "\n",
    "# Group by Pclass and find the average fare\n",
    "avg_fare_pclass = titanic.groupby('pclass')['fare'].mean().reset_index()\n",
    "\n",
    "# Plotting\n",
    "plt.figure(figsize=(8,6))\n",
    "sns.barplot(x='pclass', y='fare', data=avg_fare_pclass, palette='Blues_d')\n",
    "plt.title('Average Fare by Pclass')\n",
    "plt.ylabel('Average Fare')\n",
    "plt.xlabel('Pclass')\n",
    "plt.show()\n",
    "\n",
    "# Group by Sex and find the average fare\n",
    "avg_fare_sex = titanic.groupby('sex')['fare'].mean().reset_index()\n",
    "\n",
    "# Plotting\n",
    "plt.figure(figsize=(8,6))\n",
    "sns.barplot(x='sex', y='fare', data=avg_fare_sex, palette='coolwarm')\n",
    "plt.title('Average Fare by Sex')\n",
    "plt.ylabel('Average Fare')\n",
    "plt.xlabel('Sex')\n",
    "plt.show()\n"
   ]
  },
  {
   "cell_type": "markdown",
   "metadata": {},
   "source": [
    "AIM #4: Dataset visualization using pandas\n",
    "\n",
    "1. Plot the distribution of 'Age' using a suitable plot\n",
    "2. Plot the distribution of 'Fare' using a suitable plot\n",
    "3. Plot the distribution of 'Pclass' using a suitable plot\n",
    "4. Plot the distribution of 'Survived' using a suitable plot\n",
    "5. Plot the distribution of 'Embarked' using a suitable plot\n",
    "6. Plot the distribution of 'Fare' grouped by 'Survived'\n",
    "7. Plot the distribution of 'Fare' grouped by 'Pclass'\n",
    "8. Plot the distribution of 'Age' grouped by 'Survived'\n",
    "9. Plot the distribution of 'Age' grouped by 'PClass'\n",
    "10. Combine the 'SibSp' and 'Parch' and plot its distribution grouped by 'Survived'\n",
    "11. Combine the 'SibSp' and 'Parch' and plot its distribution grouped by 'Pclass'\n",
    "12. Plot a distribution between 'Age' and 'Fare' to see if there's any relationship\n",
    "13. Are there any other possibilities to show relationships?"
   ]
  },
  {
   "cell_type": "code",
   "execution_count": null,
   "metadata": {},
   "outputs": [],
   "source": [
    "#1.\n",
    "plt.figure(figsize=(8,6))\n",
    "sns.histplot(titanic['age'].dropna(), kde=True, bins=30)\n",
    "plt.title('Distribution of Age')\n",
    "plt.xlabel('Age')\n",
    "plt.show()"
   ]
  },
  {
   "cell_type": "code",
   "execution_count": null,
   "metadata": {},
   "outputs": [],
   "source": [
    "#2.\n",
    "plt.figure(figsize=(8,6))\n",
    "sns.histplot(titanic['fare'].dropna(), kde=True, bins=30, color='orange')\n",
    "plt.title('Distribution of Fare')\n",
    "plt.xlabel('Fare')\n",
    "plt.show()"
   ]
  },
  {
   "cell_type": "code",
   "execution_count": null,
   "metadata": {},
   "outputs": [],
   "source": [
    "#3.\n",
    "plt.figure(figsize=(8,6))\n",
    "sns.countplot(x='pclass', data=titanic, palette='Blues_d')\n",
    "plt.title('Distribution of Pclass')\n",
    "plt.xlabel('Pclass')\n",
    "plt.show()"
   ]
  },
  {
   "cell_type": "code",
   "execution_count": null,
   "metadata": {},
   "outputs": [],
   "source": [
    "#4.\n",
    "plt.figure(figsize=(8,6))\n",
    "sns.countplot(x='survived', data=titanic, palette='coolwarm')\n",
    "plt.title('Distribution of Survived')\n",
    "plt.xlabel('Survived (0 = No, 1 = Yes)')\n",
    "plt.show()"
   ]
  },
  {
   "cell_type": "code",
   "execution_count": null,
   "metadata": {},
   "outputs": [],
   "source": [
    "#5.\n",
    "plt.figure(figsize=(8,6))\n",
    "sns.countplot(x='embarked', data=titanic, palette='Set2')\n",
    "plt.title('Distribution of Embarked')\n",
    "plt.xlabel('Embarked')\n",
    "plt.show()"
   ]
  },
  {
   "cell_type": "code",
   "execution_count": null,
   "metadata": {},
   "outputs": [],
   "source": [
    "#6.\n",
    "plt.figure(figsize=(8,6))\n",
    "sns.boxplot(x='survived', y='fare', data=titanic, palette='coolwarm')\n",
    "plt.title('Fare Distribution Grouped by Survived')\n",
    "plt.xlabel('Survived (0 = No, 1 = Yes)')\n",
    "plt.ylabel('Fare')\n",
    "plt.show()"
   ]
  },
  {
   "cell_type": "code",
   "execution_count": null,
   "metadata": {},
   "outputs": [],
   "source": [
    "#7.\n",
    "plt.figure(figsize=(8,6))\n",
    "sns.boxplot(x='pclass', y='fare', data=titanic, palette='Blues_d')\n",
    "plt.title('Fare Distribution Grouped by Pclass')\n",
    "plt.xlabel('Pclass')\n",
    "plt.ylabel('Fare')\n",
    "plt.show()"
   ]
  },
  {
   "cell_type": "code",
   "execution_count": null,
   "metadata": {},
   "outputs": [],
   "source": [
    "#8.\n",
    "plt.figure(figsize=(8,6))\n",
    "sns.boxplot(x='survived', y='age', data=titanic, palette='coolwarm')\n",
    "plt.title('Age Distribution Grouped by Survived')\n",
    "plt.xlabel('Survived (0 = No, 1 = Yes)')\n",
    "plt.ylabel('Age')\n",
    "plt.show()"
   ]
  },
  {
   "cell_type": "code",
   "execution_count": null,
   "metadata": {},
   "outputs": [],
   "source": [
    "#9.\n",
    "plt.figure(figsize=(8,6))\n",
    "sns.boxplot(x='pclass', y='age', data=titanic, palette='Blues_d')\n",
    "plt.title('Age Distribution Grouped by Pclass')\n",
    "plt.xlabel('Pclass')\n",
    "plt.ylabel('Age')\n",
    "plt.show()"
   ]
  },
  {
   "cell_type": "code",
   "execution_count": null,
   "metadata": {},
   "outputs": [],
   "source": [
    "#10.\n",
    "# Combine 'SibSp' and 'Parch'\n",
    "titanic['family_size'] = titanic['sibsp'] + titanic['parch']\n",
    "\n",
    "# Plot grouped by 'Survived'\n",
    "plt.figure(figsize=(8,6))\n",
    "sns.boxplot(x='survived', y='family_size', data=titanic, palette='coolwarm')\n",
    "plt.title('Family Size Distribution Grouped by Survived')\n",
    "plt.xlabel('Survived (0 = No, 1 = Yes)')\n",
    "plt.ylabel('Family Size (SibSp + Parch)')\n",
    "plt.show()"
   ]
  },
  {
   "cell_type": "code",
   "execution_count": null,
   "metadata": {},
   "outputs": [],
   "source": [
    "#11.\n",
    "plt.figure(figsize=(8,6))\n",
    "sns.boxplot(x='pclass', y='family_size', data=titanic, palette='Blues_d')\n",
    "plt.title('Family Size Distribution Grouped by Pclass')\n",
    "plt.xlabel('Pclass')\n",
    "plt.ylabel('Family Size (SibSp + Parch)')\n",
    "plt.show()"
   ]
  },
  {
   "cell_type": "code",
   "execution_count": null,
   "metadata": {},
   "outputs": [],
   "source": [
    "#12.\n",
    "plt.figure(figsize=(8,6))\n",
    "sns.scatterplot(x='age', y='fare', data=titanic, hue='pclass', palette='coolwarm')\n",
    "plt.title('Relationship Between Age and Fare')\n",
    "plt.xlabel('Age')\n",
    "plt.ylabel('Fare')\n",
    "plt.show()"
   ]
  },
  {
   "cell_type": "code",
   "execution_count": null,
   "metadata": {},
   "outputs": [],
   "source": [
    "#13.\n",
    "sns.pairplot(titanic[['age', 'fare', 'pclass', 'survived']], hue='survived', palette='coolwarm')\n",
    "plt.show()"
   ]
  },
  {
   "cell_type": "markdown",
   "metadata": {},
   "source": [
    "AIM #5: Correlation\n",
    "\n",
    "1. Generate a correlation matrix for the entire dataset\n",
    "2. Find correlation between 'Age' and 'Fare'\n",
    "3. What other possible correlations can be found in the dataset?"
   ]
  },
  {
   "cell_type": "code",
   "execution_count": null,
   "metadata": {},
   "outputs": [],
   "source": [
    "import pandas as pd\n",
    "\n",
    "# Load the dataset\n",
    "df = pd.read_csv('titanic.csv')\n",
    "\n",
    "# Check data types of all columns\n",
    "print(df.dtypes)\n",
    "\n",
    "# Check for non-numeric values in 'Age' column\n",
    "print(df['Age'].unique())\n",
    "\n",
    "# Replace 'Zero' with 0 in the 'Age' column\n",
    "df['Age'] = df['Age'].replace('Zero', 0)\n",
    "\n",
    "# Check again for non-numeric values\n",
    "print(df['Age'].unique())\n",
    "\n",
    "# Generate the correlation matrix\n",
    "correlation_matrix = df.corr()\n",
    "\n",
    "# Display the correlation matrix\n",
    "print(correlation_matrix)\n",
    "\n",
    "# Find the correlation between 'Age' and 'Fare'\n",
    "age_fare_correlation = correlation_matrix['Age']['Fare']\n",
    "print(f\"Correlation between 'Age' and 'Fare': {age_fare_correlation}\")"
   ]
  }
 ],
 "metadata": {
  "kernelspec": {
   "display_name": "Python 3",
   "language": "python",
   "name": "python3"
  },
  "language_info": {
   "codemirror_mode": {
    "name": "ipython",
    "version": 3
   },
   "file_extension": ".py",
   "mimetype": "text/x-python",
   "name": "python",
   "nbconvert_exporter": "python",
   "pygments_lexer": "ipython3",
   "version": "3.11.9"
  }
 },
 "nbformat": 4,
 "nbformat_minor": 2
}
